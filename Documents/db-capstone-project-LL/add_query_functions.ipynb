{
 "cells": [
  {
   "cell_type": "code",
   "execution_count": 1,
   "id": "0216b533-3c15-435f-b7d8-85e1866827da",
   "metadata": {},
   "outputs": [
    {
     "name": "stdout",
     "output_type": "stream",
     "text": [
      "Requirement already satisfied: mysql-connector-python in c:\\users\\usuario3\\appdata\\local\\programs\\python\\python313\\lib\\site-packages (9.3.0)\n"
     ]
    }
   ],
   "source": [
    "!pip install mysql-connector-python"
   ]
  },
  {
   "cell_type": "code",
   "execution_count": 2,
   "id": "06d51c56-5ff8-4af4-a557-fdccfd64e7f6",
   "metadata": {},
   "outputs": [],
   "source": [
    "import mysql.connector"
   ]
  },
  {
   "cell_type": "markdown",
   "id": "b664d914-950d-459d-a9e9-1f62a77e45f1",
   "metadata": {},
   "source": [
    "connection = mysql.connector.connect(\n",
    "    host=\"localhost\",\n",
    "    user=\"misaelsierram\",\n",
    "    password=\"your_password\",\n",
    "    database=\"your_database_name\"  # 👈 This line is crucial!\n",
    ")"
   ]
  },
  {
   "cell_type": "code",
   "execution_count": 8,
   "id": "2cc560bb-c500-4d45-9904-891f4f1f54c4",
   "metadata": {},
   "outputs": [],
   "source": [
    "connection = mysql.connector.connect(\n",
    "    host=\"localhost\",\n",
    "    user=\"misaelsierram\",\n",
    "    password=\"almadeaguila\",\n",
    "    database=\"littlelemondm\"  # 👈 This line is crucial!\n",
    ")"
   ]
  },
  {
   "cell_type": "code",
   "execution_count": 10,
   "id": "63b2474f-0bdc-451c-b5c0-dfac3ad5b827",
   "metadata": {
    "scrolled": true
   },
   "outputs": [],
   "source": [
    "cursor = connection.cursor()"
   ]
  },
  {
   "cell_type": "code",
   "execution_count": 11,
   "id": "d7977a3e-a760-4f8a-96be-2bf925e39676",
   "metadata": {},
   "outputs": [
    {
     "name": "stdout",
     "output_type": "stream",
     "text": [
      "bookings\n",
      "customer\n",
      "menuitem\n",
      "orders\n",
      "ordersdeliverystatus\n",
      "ordersdetails\n",
      "ordersview\n",
      "staff\n"
     ]
    }
   ],
   "source": [
    "show_tables_query = \"SHOW tables\"\n",
    "cursor.execute(show_tables_query)\n",
    "\n",
    "# Mostrar resultados\n",
    "for (table_name,) in cursor.fetchall():\n",
    "    print(table_name)"
   ]
  },
  {
   "cell_type": "code",
   "execution_count": 13,
   "id": "c0a43c7f-5167-40d2-9e05-6f3825f6e98a",
   "metadata": {},
   "outputs": [],
   "source": [
    "# Consulta como string\n",
    "query_task_3 = \"\"\"\n",
    "SELECT \n",
    "    Customer.FullName,\n",
    "    Customer.ContactNumber,\n",
    "    Orders.TotalCost\n",
    "FROM \n",
    "    Customer\n",
    "INNER JOIN \n",
    "    Orders ON Customer.CustomerID = Orders.CustomerID\n",
    "WHERE \n",
    "    Orders.TotalCost > 60;\n",
    "\"\"\"\n",
    "\n",
    "# Ejecutar desde el cursor\n",
    "cursor.execute(query_task_3)\n",
    "\n",
    "# Mostrar resultados\n",
    "for row in cursor.fetchall():\n",
    "    print(row)"
   ]
  },
  {
   "cell_type": "code",
   "execution_count": null,
   "id": "9d0f4833-16ec-4809-9ba7-a175176dbeae",
   "metadata": {},
   "outputs": [],
   "source": []
  }
 ],
 "metadata": {
  "kernelspec": {
   "display_name": "Python 3 (ipykernel)",
   "language": "python",
   "name": "python3"
  },
  "language_info": {
   "codemirror_mode": {
    "name": "ipython",
    "version": 3
   },
   "file_extension": ".py",
   "mimetype": "text/x-python",
   "name": "python",
   "nbconvert_exporter": "python",
   "pygments_lexer": "ipython3",
   "version": "3.13.3"
  }
 },
 "nbformat": 4,
 "nbformat_minor": 5
}
